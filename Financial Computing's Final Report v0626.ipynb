{
 "cells": [
  {
   "cell_type": "markdown",
   "metadata": {},
   "source": [
    "## Package"
   ]
  },
  {
   "cell_type": "code",
   "execution_count": 1,
   "metadata": {},
   "outputs": [],
   "source": [
    "import numpy as np\n",
    "import math\n",
    "from scipy import stats"
   ]
  },
  {
   "cell_type": "markdown",
   "metadata": {},
   "source": [
    "## Problem 1\n",
    "一大型\"新興\"經濟體電信股股票歐式陽春型買權，賣出1000股部位。設定如下， \\\n",
    " 請問此部位需要計提多少的\"FXR\"市場風險資本? \\\n",
    " 又此部位需要計提多少的\"GIRR\"市場風險資本?"
   ]
  },
  {
   "cell_type": "code",
   "execution_count": 2,
   "metadata": {},
   "outputs": [],
   "source": [
    "# setting\n",
    "S = 100   # 股票價格\n",
    "K = 100   # 執行價格\n",
    "T = 9/12  # 到期日\n",
    "# 市場即期利率\n",
    "r1 = 0.02 ; r3 = 0.0225 ; r6 = 0.025 ; r12 = 0.028\n",
    "# 隱含波動率\n",
    "σ6 = 0.25 ; σ12 = 0.3\n",
    "# 風險權數\n",
    "RW = 0.60\n",
    "# 同標的選擇權之相關係數\n",
    "ρ_delta = 0.999"
   ]
  },
  {
   "cell_type": "markdown",
   "metadata": {},
   "source": [
    "function"
   ]
  },
  {
   "cell_type": "code",
   "execution_count": 3,
   "metadata": {},
   "outputs": [],
   "source": [
    "### 內插法\n",
    "def interpo(x,p1,p2):\n",
    "    \n",
    "    k = p1[1]*((p2[0]-x)/(p2[0]-p1[0]))\n",
    "    m = p2[1]*((x-p1[0])/(p2[0]-p1[0]))\n",
    "    \n",
    "    return k+m\n",
    "\n",
    "### 歐式選擇權價格計算\n",
    "\n",
    "def Europrice(S,K,r,σ,t):\n",
    "    \n",
    "    d1 = (np.log(S/K) + (r + 0.5 * σ**2)*t)/(σ * np.sqrt(t))\n",
    "    d2 = d1 - σ * np.sqrt(t)\n",
    "    \n",
    "    call = S * stats.norm.cdf(d1,0,1) - K * np.exp(-r*t) * stats.norm.cdf(d2,0,1)\n",
    "    put =  K * np.exp(-r*t) * stats.norm.cdf((-1)*d2,0,1) - S * stats.norm.cdf((-1)*d1,0,1)\n",
    "    \n",
    "    return call , put\n",
    "\n",
    "\n",
    "def ϕ(x,y):\n",
    "    if (x<0) & (y<0):\n",
    "        return 0\n",
    "    else:\n",
    "        return 1"
   ]
  },
  {
   "cell_type": "markdown",
   "metadata": {},
   "source": [
    "### EQR Delta"
   ]
  },
  {
   "cell_type": "code",
   "execution_count": 4,
   "metadata": {},
   "outputs": [
    {
     "name": "stdout",
     "output_type": "stream",
     "text": [
      "The nine months' risk-free spot rate is 0.0265\n",
      "and implied volatility is 0.275\n"
     ]
    }
   ],
   "source": [
    "r9 = (1/interpo(9,[6,1/(1+r6)],[12,1/(1+r12)]))-1\n",
    "σ9 = interpo(9,[6,σ6],[12,σ12])\n",
    "print(\"The nine months' risk-free spot rate is\",round(r9,4))\n",
    "print(\"and implied volatility is\",round(σ9,4))"
   ]
  },
  {
   "cell_type": "code",
   "execution_count": 5,
   "metadata": {},
   "outputs": [
    {
     "name": "stdout",
     "output_type": "stream",
     "text": [
      "call price = 10.4018\n",
      "\n",
      "price after change 1% of stock price= 10.9902\n",
      "\n",
      "Delta = 58.8401\n",
      "\n",
      "   >>> Weighted Sensitivity = 35.3041\n",
      "\n"
     ]
    }
   ],
   "source": [
    "call,_ = Europrice(S,K,r9,σ9,T)\n",
    "dS_call,_ = Europrice(1.01*S,K,r9,σ9,T)\n",
    "FXR_Δ = (dS_call-call)/0.01\n",
    "FXR_WS_Δ = RW*FXR_Δ\n",
    "\n",
    "print(\"call price =\",round(call,4)) ; print()\n",
    "print('price after change 1% of stock price=',round(dS_call,4)) ; print()\n",
    "print(\"Delta =\",round(FXR_Δ,4)) ; print()\n",
    "print(\"   >>> Weighted Sensitivity =\",round(FXR_WS_Δ,4)) ; print()"
   ]
  },
  {
   "cell_type": "markdown",
   "metadata": {},
   "source": [
    "##### 僅有一個選擇權，故不需計算bucket內or間的彙整"
   ]
  },
  {
   "cell_type": "code",
   "execution_count": 6,
   "metadata": {},
   "outputs": [
    {
     "name": "stdout",
     "output_type": "stream",
     "text": [
      "   >>> EQR Delta = 35.3041\n"
     ]
    }
   ],
   "source": [
    "print(\"   >>> EQR Delta =\",round(FXR_WS_Δ,4))"
   ]
  },
  {
   "cell_type": "markdown",
   "metadata": {},
   "source": [
    "### EQR Vega"
   ]
  },
  {
   "cell_type": "code",
   "execution_count": 28,
   "metadata": {},
   "outputs": [
    {
     "name": "stdout",
     "output_type": "stream",
     "text": [
      "Changing 6 month's r :\n",
      " price after change 1% of σ= 10.4441\n",
      " Vega = 4.2309\n",
      "   >>> Weighted Sensitivity = 0.6981\n",
      "\n",
      "Changing 12 month's r :\n",
      " price after change 1% of σ= 10.4949\n",
      " Vega = 9.3079\n",
      "   >>> Weighted Sensitivity = 1.5358\n"
     ]
    }
   ],
   "source": [
    "##changing 6 month's r\n",
    "d6_σ9 = interpo(9,[6,1.01*σ6],[12,σ12])\n",
    "dσ_call6,_ = Europrice(S,K,r9,d6_σ9,T)\n",
    "FXR_ν6 = (dσ_call6-call)/0.01\n",
    "FXR_WS_ν6 = RW*FXR_ν6*σ9\n",
    "print(\"Changing 6 month's r :\")\n",
    "print(' price after change 1% of σ=',round(dσ_call6,4))\n",
    "print(\" Vega =\",round(FXR_ν6,4)) \n",
    "print(\"   >>> Weighted Sensitivity =\",round(FXR_WS_ν6,4))\n",
    "print()\n",
    "\n",
    "##changing 12 month's r\n",
    "d12_σ9 = interpo(9,[6,1.01*σ6],[12,1.01*σ12])\n",
    "dσ_call12,_ = Europrice(S,K,r9,d12_σ9,T)\n",
    "FXR_ν12 = (dσ_call12-call)/0.01\n",
    "FXR_WS_ν12 = RW*FXR_ν12*σ9\n",
    "print(\"Changing 12 month's r :\")\n",
    "print(' price after change 1% of σ=',round(dσ_call12,4)) \n",
    "print(\" Vega =\",round(FXR_ν12,4)) \n",
    "print(\"   >>> Weighted Sensitivity =\",round(FXR_WS_ν12,4))"
   ]
  },
  {
   "cell_type": "markdown",
   "metadata": {},
   "source": [
    "#### Bucket內整合"
   ]
  },
  {
   "cell_type": "code",
   "execution_count": 29,
   "metadata": {},
   "outputs": [
    {
     "name": "stdout",
     "output_type": "stream",
     "text": [
      "   >>> EQR Vega  = 2.2286\n"
     ]
    }
   ],
   "source": [
    "ρ_option = np.exp( -0.01*np.abs(1-6/12)/np.min([1,6/12]) );ρ612 = np.min([ρ_delta*ρ_option,1]) \n",
    "FXR_WS_ν = np.sqrt( max( [ 0 , (FXR_WS_ν12)**2+(FXR_WS_ν6)**2 + 2*ρ612*FXR_WS_ν12*FXR_WS_ν6 ] ) )\n",
    "print(\"   >>> EQR Vega  =\",round(FXR_WS_ν,4))"
   ]
  },
  {
   "cell_type": "markdown",
   "metadata": {},
   "source": [
    "##### 僅有一個bucket，故不需計算bucket間的彙整"
   ]
  },
  {
   "cell_type": "markdown",
   "metadata": {},
   "source": [
    "### EQR Curvature"
   ]
  },
  {
   "cell_type": "code",
   "execution_count": 9,
   "metadata": {},
   "outputs": [
    {
     "name": "stdout",
     "output_type": "stream",
     "text": [
      "CRV+ = -16.4778   CRV- = -24.9026\n",
      "\n",
      "K+ = 0   K- = 0\n",
      "\n",
      "   >>> Curvature Risk = 0\n"
     ]
    }
   ],
   "source": [
    "d60p_call,_ = Europrice((1+RW)*S,K,r9,σ9,T)\n",
    "d60n_call,_ = Europrice((1-RW)*S,K,r9,σ9,T)\n",
    "\n",
    "FXR_CVR_p = -(d60p_call-call-FXR_WS_Δ)\n",
    "FXR_CVR_n = -(d60n_call-call+FXR_WS_Δ)\n",
    "FXR_Curvature_Risk = max(max(FXR_CVR_p,0),max(FXR_CVR_n,0))\n",
    "\n",
    "print(\"CRV+ =\",round(FXR_CVR_p,4),\"  CRV- =\",round(FXR_CVR_n,4)) ; print()\n",
    "print(\"K+ =\",round(max(FXR_CVR_p,0),4),\"  K- =\",round(max(FXR_CVR_n,0),4)) ; print()\n",
    "print(\"   >>> Curvature Risk =\",round(FXR_Curvature_Risk,4))"
   ]
  },
  {
   "cell_type": "markdown",
   "metadata": {},
   "source": [
    "### FXR Capital Risk"
   ]
  },
  {
   "cell_type": "code",
   "execution_count": 10,
   "metadata": {},
   "outputs": [
    {
     "name": "stdout",
     "output_type": "stream",
     "text": [
      "Answer :\n",
      "\n",
      "    Minimum FXR Capital Requirements of this case is 37.5327\n"
     ]
    }
   ],
   "source": [
    "FXR_mcr = FXR_WS_Δ + FXR_WS_ν + FXR_Curvature_Risk\n",
    "\n",
    "print(\"Answer :\") ; print()\n",
    "print(\"    Minimum FXR Capital Requirements of this case is\",round(FXR_mcr,4))"
   ]
  },
  {
   "cell_type": "markdown",
   "metadata": {},
   "source": [
    "### GIRR Delta"
   ]
  },
  {
   "cell_type": "code",
   "execution_count": 32,
   "metadata": {
    "scrolled": true
   },
   "outputs": [
    {
     "name": "stdout",
     "output_type": "stream",
     "text": [
      "Changing 6 month's r :\n",
      " price after change 1% of r= 10.4036\n",
      " GIRR Delta = 17.9108\n",
      "   >>> Weighted Sensitivity = 0.2153\n",
      "\n",
      "Changing 12 month's r :\n",
      " price after change 1% of r= 10.4036\n",
      " GIRR Delta = 17.8064\n",
      "   >>> Weighted Sensitivity = 0.2015\n"
     ]
    }
   ],
   "source": [
    "##changing 6 month's r\n",
    "d6r9 = (1/interpo(9,[6,1/(1+r6+0.0001)],[12,1/(1+r12)]))-1\n",
    "dr_call6g,_ = Europrice(S,K,d6r9,σ9,T)\n",
    "GIRR_Δ_6 = (dr_call6g-call)/0.0001\n",
    "GIRR_WS6 = 0.017*GIRR_Δ_6/np.sqrt(2)\n",
    "print(\"Changing 6 month's r :\")\n",
    "print(' price after change 1% of r=',round(dr_call6g,4))\n",
    "print(\" GIRR Delta =\",round(GIRR_Δ_6,4)) \n",
    "print(\"   >>> Weighted Sensitivity =\",round(GIRR_WS6,4))\n",
    "print()\n",
    "\n",
    "##changing 12 month's r\n",
    "d12r9 = (1/interpo(9,[6,1/(1+r6)],[12,1/(1+r12+0.0001)]))-1\n",
    "dr_call12g,_ = Europrice(S,K,d12r9,σ9,T)\n",
    "GIRR_Δ_12 = (dr_call12g-call)/0.0001\n",
    "GIRR_WS12 = 0.016*GIRR_Δ_12/np.sqrt(2)\n",
    "print(\"Changing 12 month's r :\")\n",
    "print(' price after change 1% of r=',round(dr_call12g,4)) \n",
    "print(\" GIRR Delta =\",round(GIRR_Δ_12,4)) \n",
    "print(\"   >>> Weighted Sensitivity =\",round(GIRR_WS12,4))"
   ]
  },
  {
   "cell_type": "markdown",
   "metadata": {},
   "source": [
    "#### Bucket內整合"
   ]
  },
  {
   "cell_type": "code",
   "execution_count": 33,
   "metadata": {},
   "outputs": [
    {
     "name": "stdout",
     "output_type": "stream",
     "text": [
      "   >>> GIRR Delta  = 0.4136\n"
     ]
    }
   ],
   "source": [
    "ρ_051 = 0.97\n",
    "GIRR_WS_Δ = np.sqrt( max( [ 0 , (GIRR_WS12)**2+(GIRR_WS6)**2 + 2*ρ_051*GIRR_WS12*GIRR_WS6 ] ) )\n",
    "print(\"   >>> GIRR Delta  =\",round(GIRR_WS_Δ,4))"
   ]
  },
  {
   "cell_type": "markdown",
   "metadata": {},
   "source": [
    "### GIRR Curvature"
   ]
  },
  {
   "cell_type": "code",
   "execution_count": 35,
   "metadata": {},
   "outputs": [
    {
     "name": "stdout",
     "output_type": "stream",
     "text": [
      "Changing 6 month's r :\n",
      "\n",
      "  CRV+ = -0.089\n",
      "  CRV- = 0.0893\n",
      "\n",
      "Changing 12 month's r :\n",
      "\n",
      "  CRV+ = -0.1029\n",
      "  CRV- = 0.1031\n"
     ]
    }
   ],
   "source": [
    "d6r9p = (1/interpo(9,[6,1/(1+r6+0.017)],[12,1/(1+r12)]))-1 ;d6r9n = (1/interpo(9,[6,1/(1+r6-0.017)],[12,1/(1+r12)]))-1 \n",
    "d017p_call6,_ = Europrice(S,K,d6r9p,σ9,T)\n",
    "d017n_call6,_ = Europrice(S,K,d6r9n,σ9,T)\n",
    "GIRR_CVR_p6 = -(d017p_call6 - call - GIRR_WS6)\n",
    "GIRR_CVR_n6 = -(d017n_call6 - call + GIRR_WS6)\n",
    "print(\"Changing 6 month's r :\") ; print()\n",
    "print(\"  CRV+ =\",round(GIRR_CVR_p6,4)) \n",
    "print(\"  CRV- =\",round(GIRR_CVR_n6,4)) \n",
    "print()\n",
    "d12r9p = (1/interpo(9,[6,1/(1+r6)],[12,1/(1+r12+0.017)]))-1 ;d12r9n = (1/interpo(9,[6,1/(1+r6)],[12,1/(1+r12-0.017)]))-1\n",
    "d017p_call12,_ = Europrice(S,K,d6r9p,σ9,T)\n",
    "d017n_call12,_ = Europrice(S,K,d6r9n,σ9,T)\n",
    "GIRR_CVR_p12 = -(d017p_call12 - call - GIRR_WS12)\n",
    "GIRR_CVR_n12 = -(d017n_call12 - call + GIRR_WS12)\n",
    "print(\"Changing 12 month's r :\") ; print()\n",
    "print(\"  CRV+ =\",round(GIRR_CVR_p12,4))\n",
    "print(\"  CRV- =\",round(GIRR_CVR_n12,4)) "
   ]
  },
  {
   "cell_type": "markdown",
   "metadata": {},
   "source": [
    "#### Bucket內整合"
   ]
  },
  {
   "cell_type": "code",
   "execution_count": 14,
   "metadata": {},
   "outputs": [
    {
     "name": "stdout",
     "output_type": "stream",
     "text": [
      "K+ =  0.0\n",
      "K- =  0.1667\n",
      "   >>> Curvature 風險資本 = 0.1667\n"
     ]
    }
   ],
   "source": [
    "GIRR_k_p = np.sqrt( max([ 0 , max((GIRR_CVR_p6),0)**2 + max((GIRR_CVR_p12),0)**2 + (ρ_delta**2)*GIRR_CVR_p12*GIRR_CVR_p6*ϕ(GIRR_CVR_p12,GIRR_CVR_p6) ]) )\n",
    "GIRR_k_n = np.sqrt( max([ 0 , max((GIRR_CVR_n6),0)**2 + max((GIRR_CVR_n12),0)**2 + (ρ_delta**2)*GIRR_CVR_n12*GIRR_CVR_n6*ϕ(GIRR_CVR_n12,GIRR_CVR_n6) ]) )\n",
    "GIRR_k_c = max([ GIRR_k_p , GIRR_k_n ])\n",
    "print(\"K+ = \",round(GIRR_k_p,4))\n",
    "print(\"K- = \",round(GIRR_k_n,4))\n",
    "print(\"   >>> Curvature 風險資本 =\",round(GIRR_k_c,4))"
   ]
  },
  {
   "cell_type": "code",
   "execution_count": 15,
   "metadata": {},
   "outputs": [
    {
     "name": "stdout",
     "output_type": "stream",
     "text": [
      "Answer :\n",
      "\n",
      "    Minimum GIRR Capital Requirements of this case is 0.5804\n"
     ]
    }
   ],
   "source": [
    "GIRR_mcr = GIRR_WS_Δ + GIRR_k_c\n",
    "\n",
    "print(\"Answer :\") ; print()\n",
    "print(\"    Minimum GIRR Capital Requirements of this case is\",round(GIRR_mcr,4))"
   ]
  },
  {
   "cell_type": "markdown",
   "metadata": {},
   "source": [
    "## Problem 2\n",
    "如上設定，或再加入一大型\"新興\"經濟體電信股股票歐式陽春型\"賣權\"，賣出1000股部位。 \\\n",
    " 請問此部位需要計提多少的\"FXR\"市場風險資本? \\\n",
    " 又此部位需要計提多少的\"GIRR\"市場風險資本?"
   ]
  },
  {
   "cell_type": "markdown",
   "metadata": {},
   "source": [
    "### EQR Delta"
   ]
  },
  {
   "cell_type": "code",
   "execution_count": 16,
   "metadata": {},
   "outputs": [
    {
     "name": "stdout",
     "output_type": "stream",
     "text": [
      "put price = 8.4341\n",
      "\n",
      "price after change 1% of stock price= 10.9902\n",
      "\n",
      "Delta = -41.1599\n",
      "\n",
      "   >>> Weighted Sensitivity = -24.6959\n",
      "\n"
     ]
    }
   ],
   "source": [
    "_,put = Europrice(S,K,r9,σ9,T)\n",
    "_,dS_put = Europrice(1.01*S,K,r9,σ9,T)\n",
    "FXR_Δp = (dS_put-put)/0.01\n",
    "FXR_WS_Δp = RW*FXR_Δp\n",
    "\n",
    "print(\"put price =\",round(put,4)) ; print()\n",
    "print('price after change 1% of stock price=',round(dS_call,4)) ; print()\n",
    "print(\"Delta =\",round(FXR_Δp,4)) ; print()\n",
    "print(\"   >>> Weighted Sensitivity =\",round(FXR_WS_Δp,4)) ; print()"
   ]
  },
  {
   "cell_type": "markdown",
   "metadata": {},
   "source": [
    "#### Bucket內整合"
   ]
  },
  {
   "cell_type": "code",
   "execution_count": 39,
   "metadata": {},
   "outputs": [
    {
     "name": "stdout",
     "output_type": "stream",
     "text": [
      "   >>> EQR Delta  = 10.69\n"
     ]
    }
   ],
   "source": [
    "FXR_WS_Δ2 = np.sqrt( max( [ 0 , (FXR_WS_Δp)**2+(FXR_WS_Δ)**2 + 2*ρ_delta*FXR_WS_Δp*FXR_WS_Δ ] ) )\n",
    "print(\"   >>> EQR Delta  =\",round(FXR_WS_Δ2,4))"
   ]
  },
  {
   "cell_type": "markdown",
   "metadata": {},
   "source": [
    "### EQR Vega"
   ]
  },
  {
   "cell_type": "code",
   "execution_count": 37,
   "metadata": {},
   "outputs": [
    {
     "name": "stdout",
     "output_type": "stream",
     "text": [
      "Changing 6 month's r :\n",
      " price after change 1% of σ= 8.4764\n",
      " Vega = 4.2309\n",
      "   >>> Weighted Sensitivity = 0.6981\n",
      "\n",
      "Changing 12 month's r :\n",
      " price after change 1% of σ= 8.5271\n",
      " Vega = 9.3079\n",
      "   >>> Weighted Sensitivity = 1.5358\n"
     ]
    }
   ],
   "source": [
    "d6_σ9 = interpo(9,[6,1.01*σ6],[12,σ12])\n",
    "_,dσ_put6 = Europrice(S,K,r9,d6_σ9,T)\n",
    "FXR_ν6p = (dσ_put6-put)/0.01\n",
    "FXR_WS_ν6p = RW*FXR_ν6p*σ9\n",
    "print(\"Changing 6 month's r :\")\n",
    "print(' price after change 1% of σ=',round(dσ_put6,4))\n",
    "print(\" Vega =\",round(FXR_ν6p,4)) \n",
    "print(\"   >>> Weighted Sensitivity =\",round(FXR_WS_ν6p,4))\n",
    "print()\n",
    "d12_σ9p = interpo(9,[6,1.01*σ6],[12,1.01*σ12])\n",
    "_,dσ_put12 = Europrice(S,K,r9,d12_σ9,T)\n",
    "FXR_ν12p = (dσ_put12-put)/0.01\n",
    "FXR_WS_ν12p = RW*FXR_ν12p*σ9\n",
    "print(\"Changing 12 month's r :\") \n",
    "print(' price after change 1% of σ=',round(dσ_put12,4)) \n",
    "print(\" Vega =\",round(FXR_ν12p,4)) \n",
    "print(\"   >>> Weighted Sensitivity =\",round(FXR_WS_ν12p,4))"
   ]
  },
  {
   "cell_type": "markdown",
   "metadata": {},
   "source": [
    "#### Bucket內整合"
   ]
  },
  {
   "cell_type": "code",
   "execution_count": 38,
   "metadata": {},
   "outputs": [
    {
     "name": "stdout",
     "output_type": "stream",
     "text": [
      "   >>> EQR Vega  = 4.4567\n"
     ]
    }
   ],
   "source": [
    "ρ_option612 = np.exp( -0.01*np.abs(1-6/12)/np.min([1,6/12]) ); ρ_option66 = np.exp( 0 ); ρ_option1212 = np.exp( 0 )\n",
    "ρ612 = np.min([ρ_delta*ρ_option612,1]) ; ρ66 = np.min([ρ_delta*ρ_option66,1]) ; ρ1212 = np.min([ρ_delta*ρ_option1212,1]) \n",
    "\n",
    "sigmaWS = (FXR_WS_ν12)**2+(FXR_WS_ν6)**2+(FXR_WS_ν12p)**2+(FXR_WS_ν6p)**2\n",
    "sigmaWS = sigmaWS + 2*ρ612*(FXR_WS_ν12*FXR_WS_ν6 + FXR_WS_ν12*FXR_WS_ν6p + FXR_WS_ν12p*FXR_WS_ν6 + FXR_WS_ν12p*FXR_WS_ν6p)\n",
    "sigmaWS = sigmaWS + 2*ρ66*(FXR_WS_ν6*FXR_WS_ν6p) + 2*ρ1212*(FXR_WS_ν12*FXR_WS_ν12p)\n",
    "\n",
    "FXR_WS_ν2 = np.sqrt( max( [ 0 , sigmaWS] ) )\n",
    "print(\"   >>> EQR Vega  =\",round(FXR_WS_ν2,4))"
   ]
  },
  {
   "cell_type": "markdown",
   "metadata": {},
   "source": [
    "### EQR Curvature"
   ]
  },
  {
   "cell_type": "code",
   "execution_count": 20,
   "metadata": {},
   "outputs": [
    {
     "name": "stdout",
     "output_type": "stream",
     "text": [
      "CRV+ = -32.9556   CRV- = -49.8051\n",
      "\n",
      "K+ = 0   K- = 0\n",
      "\n",
      "   >>> Curvature Risk = 0\n"
     ]
    }
   ],
   "source": [
    "_,d60p_put = Europrice((1+RW)*S,K,r9,σ9,T)\n",
    "_,d60n_put = Europrice((1-RW)*S,K,r9,σ9,T)\n",
    "\n",
    "FXR_CVR_pp = -(d60p_put-put-FXR_WS_Δp)\n",
    "FXR_CVR_np = -(d60n_put-put+FXR_WS_Δp)\n",
    "\n",
    "CVR_plus = FXR_CVR_pp+FXR_CVR_p\n",
    "CVR_minus = FXR_CVR_np+FXR_CVR_n\n",
    "\n",
    "FXR_Curvature_Risk2 = max(max(CVR_plus,0),max(CVR_minus,0))\n",
    "\n",
    "print(\"CRV+ =\",round(CVR_plus,4),\"  CRV- =\",round(CVR_minus,4)) ; print()\n",
    "print(\"K+ =\",round(max(CVR_plus,0),4),\"  K- =\",round(max(CVR_minus,0),4)) ; print()\n",
    "print(\"   >>> Curvature Risk =\",round(FXR_Curvature_Risk2,4))"
   ]
  },
  {
   "cell_type": "code",
   "execution_count": 21,
   "metadata": {},
   "outputs": [
    {
     "name": "stdout",
     "output_type": "stream",
     "text": [
      "Answer :\n",
      "\n",
      "    Minimum FXR Capital Requirements of this case is 15.1466\n"
     ]
    }
   ],
   "source": [
    "FXR_mcr2 = FXR_WS_Δ2 + FXR_WS_ν2 + FXR_Curvature_Risk2\n",
    "\n",
    "print(\"Answer :\") ; print()\n",
    "print(\"    Minimum FXR Capital Requirements of this case is\",round(FXR_mcr2,4))"
   ]
  },
  {
   "cell_type": "markdown",
   "metadata": {},
   "source": [
    "### GIRR Delta"
   ]
  },
  {
   "cell_type": "code",
   "execution_count": 40,
   "metadata": {},
   "outputs": [
    {
     "name": "stdout",
     "output_type": "stream",
     "text": [
      "Changing 6 month's r :\n",
      " price after change 1% of r= 8.4322\n",
      " GIRR Delta = -18.9564\n",
      "   >>> Weighted Sensitivity = -0.2279\n",
      "\n",
      "Changing 12 month's r :\n",
      " put price = 8.4341\n",
      " price after change 1% of r= 8.4322\n",
      " GIRR Delta = -18.8459\n",
      "   >>> Weighted Sensitivity = -0.2132\n"
     ]
    }
   ],
   "source": [
    "_,dr_put6g = Europrice(S,K,d6r9,σ9,T)\n",
    "GIRR_Δ_6_put = (dr_put6g - put)/0.0001\n",
    "GIRR_WS6_put = 0.017*GIRR_Δ_6_put/np.sqrt(2)\n",
    "print(\"Changing 6 month's r :\")\n",
    "print(' price after change 1% of r=',round(dr_put6g,4))\n",
    "print(\" GIRR Delta =\",round(GIRR_Δ_6_put,4)) \n",
    "print(\"   >>> Weighted Sensitivity =\",round(GIRR_WS6_put,4))\n",
    "print()\n",
    "_,dr_put12g = Europrice(S,K,d12r9,σ9,T)\n",
    "GIRR_Δ_12_put = (dr_put12g - put)/0.0001\n",
    "GIRR_WS12_put = 0.016*GIRR_Δ_12_put/np.sqrt(2)\n",
    "print(\"Changing 12 month's r :\")\n",
    "print(\" put price =\",round(put,4)) \n",
    "print(' price after change 1% of r=',round(dr_put12g,4)) \n",
    "print(\" GIRR Delta =\",round(GIRR_Δ_12_put,4)) \n",
    "print(\"   >>> Weighted Sensitivity =\",round(GIRR_WS12_put,4))"
   ]
  },
  {
   "cell_type": "markdown",
   "metadata": {},
   "source": [
    "#### Bucket內整合"
   ]
  },
  {
   "cell_type": "code",
   "execution_count": 31,
   "metadata": {},
   "outputs": [
    {
     "name": "stdout",
     "output_type": "stream",
     "text": [
      "   >>> GIRR Delta  = 0.0241\n"
     ]
    }
   ],
   "source": [
    "ρ_051 = 0.97 \n",
    "ρ_11 = 1.00 \n",
    "ρ_0505 = 1.00 \n",
    "GIRR_WS_Δ2 = np.sqrt( max( [ 0 , (GIRR_WS12)**2+(GIRR_WS6)**2+(GIRR_WS6_put)**2+(GIRR_WS12_put)**2 \n",
    "                               + 2*ρ_051*GIRR_WS12*GIRR_WS6 + 2*ρ_051*GIRR_WS12_put*GIRR_WS6 + 2*ρ_051*GIRR_WS12*GIRR_WS6_put + 2*ρ_051*GIRR_WS12_put*GIRR_WS6_put\n",
    "                               + 2*ρ_11*GIRR_WS12*GIRR_WS12_put\n",
    "                               + 2*ρ_0505*GIRR_WS6*GIRR_WS6_put] ) )\n",
    "print(\"   >>> GIRR Delta  =\",round(GIRR_WS_Δ2,4))"
   ]
  },
  {
   "cell_type": "markdown",
   "metadata": {},
   "source": [
    "### GIRR Curvature"
   ]
  },
  {
   "cell_type": "code",
   "execution_count": 41,
   "metadata": {},
   "outputs": [
    {
     "name": "stdout",
     "output_type": "stream",
     "text": [
      "for put, changing 6 month's r :\n",
      "\n",
      "  CRV+ = 0.0875\n",
      "  CRV- = -0.1016\n",
      "\n",
      "for put ,changing 12 month's r :\n",
      "\n",
      "  CRV+ = 0.1021\n",
      "  CRV- = -0.1162\n"
     ]
    }
   ],
   "source": [
    "_,d017p_put6 = Europrice(S,K,d6r9p,σ9,T)\n",
    "_,d017n_put6 = Europrice(S,K,d6r9n,σ9,T)\n",
    "GIRR_CVR_p6_put = -(d017p_put6 - put - GIRR_WS6_put)\n",
    "GIRR_CVR_n6_put = -(d017n_put6 - put + GIRR_WS6_put)\n",
    "print(\"for put, changing 6 month's r :\") ; print()\n",
    "print(\"  CRV+ =\",round(GIRR_CVR_p6_put,4)) \n",
    "print(\"  CRV- =\",round(GIRR_CVR_n6_put,4)) \n",
    "print()\n",
    "_,d017p_put12 = Europrice(S,K,d6r9p,σ9,T)\n",
    "_,d017n_put12 = Europrice(S,K,d6r9n,σ9,T)\n",
    "GIRR_CVR_p12_put = -(d017p_put12 - put - GIRR_WS12_put)\n",
    "GIRR_CVR_n12_put = -(d017n_put12 - put + GIRR_WS12_put)\n",
    "print(\"for put ,changing 12 month's r :\") ; print()\n",
    "print(\"  CRV+ =\",round(GIRR_CVR_p12_put,4))\n",
    "print(\"  CRV- =\",round(GIRR_CVR_n12_put,4)) "
   ]
  },
  {
   "cell_type": "markdown",
   "metadata": {},
   "source": [
    "#### Bucket內整合"
   ]
  },
  {
   "cell_type": "code",
   "execution_count": 42,
   "metadata": {},
   "outputs": [
    {
     "name": "stdout",
     "output_type": "stream",
     "text": [
      "Changing 6 month's r :\n",
      "\n",
      "  CRV+ = -0.0015\n",
      "  CRV- = -0.0123\n",
      "\n",
      "Changing 12 month's r :\n",
      "\n",
      "  CRV+ = -0.0007\n",
      "  CRV- = -0.0131\n"
     ]
    }
   ],
   "source": [
    "GIRR_CVR_p6_combine = GIRR_CVR_p6_put + GIRR_CVR_p6 ; GIRR_CVR_n6_combine = GIRR_CVR_n6_put + GIRR_CVR_n6 ; GIRR_CVR_p12_combine = GIRR_CVR_p12_put + GIRR_CVR_p12 ; GIRR_CVR_n12_combine = GIRR_CVR_n12_put + GIRR_CVR_n12\n",
    "print(\"Changing 6 month's r :\") ; print()\n",
    "print(\"  CRV+ =\",round(GIRR_CVR_p6_combine,4)) \n",
    "print(\"  CRV- =\",round(GIRR_CVR_n6_combine,4)) \n",
    "print()\n",
    "print(\"Changing 12 month's r :\") ; print()\n",
    "print(\"  CRV+ =\",round(GIRR_CVR_p12_combine,4))\n",
    "print(\"  CRV- =\",round(GIRR_CVR_n12_combine,4)) "
   ]
  },
  {
   "cell_type": "code",
   "execution_count": 43,
   "metadata": {},
   "outputs": [
    {
     "name": "stdout",
     "output_type": "stream",
     "text": [
      "K+ =  0.0\n",
      "K- =  0.0\n",
      "   >>> Curvature 風險資本 = 0.0\n"
     ]
    }
   ],
   "source": [
    "GIRR_k_p2 = np.sqrt( max([ 0 , max((GIRR_CVR_p6_combine),0)**2 + max((GIRR_CVR_p12_combine),0)**2 + (ρ_delta**2)*GIRR_CVR_p12_combine*GIRR_CVR_p6_combine*ϕ(GIRR_CVR_p12_combine,GIRR_CVR_p6_combine) ]) )\n",
    "GIRR_k_n2 = np.sqrt( max([ 0 , max((GIRR_CVR_n6_combine),0)**2 + max((GIRR_CVR_n12_combine),0)**2 + (ρ_delta**2)*GIRR_CVR_n12_combine*GIRR_CVR_n6_combine*ϕ(GIRR_CVR_n12_combine,GIRR_CVR_n6_combine) ]) )\n",
    "GIRR_k_c2 = max([ GIRR_k_p2 , GIRR_k_n2 ])\n",
    "print(\"K+ = \",round(GIRR_k_p2,4))\n",
    "print(\"K- = \",round(GIRR_k_n2,4))\n",
    "print(\"   >>> Curvature 風險資本 =\",round(GIRR_k_c2,4))"
   ]
  },
  {
   "cell_type": "code",
   "execution_count": 27,
   "metadata": {},
   "outputs": [
    {
     "name": "stdout",
     "output_type": "stream",
     "text": [
      "Answer :\n",
      "\n",
      "    Minimum GIRR Capital Requirements of this case is 0.0241\n"
     ]
    }
   ],
   "source": [
    "GIRR_mcr2 = GIRR_WS_Δ2 + GIRR_k_c2\n",
    "\n",
    "print(\"Answer :\") ; print()\n",
    "print(\"    Minimum GIRR Capital Requirements of this case is\",round(GIRR_mcr2,4))"
   ]
  },
  {
   "cell_type": "code",
   "execution_count": null,
   "metadata": {},
   "outputs": [],
   "source": []
  }
 ],
 "metadata": {
  "kernelspec": {
   "display_name": "Python 3",
   "language": "python",
   "name": "python3"
  },
  "language_info": {
   "codemirror_mode": {
    "name": "ipython",
    "version": 3
   },
   "file_extension": ".py",
   "mimetype": "text/x-python",
   "name": "python",
   "nbconvert_exporter": "python",
   "pygments_lexer": "ipython3",
   "version": "3.7.6"
  }
 },
 "nbformat": 4,
 "nbformat_minor": 4
}
